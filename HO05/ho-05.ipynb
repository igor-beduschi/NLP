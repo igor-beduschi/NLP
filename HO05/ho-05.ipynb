{
 "cells": [
  {
   "attachments": {},
   "cell_type": "markdown",
   "metadata": {},
   "source": [
    "# HO05: Text Similarity\n",
    "A partir do conjunto de documentos `headlines.txt`, contendo um documento por linha, computar mapas de calor (create_heatmap) fornecendo a similaridade de cada documento com os outros, usando as 5 métricas de similaridade (Jaccard, Manhattan, Euclidean, Minkowski com p=3 e Cosine Similarity), e representando os documentos usando as 6 formas de vetorização:\n",
    "\n",
    "1. One-Hot Encoding\n",
    "2. Count Vectors\n",
    "3. TF-IDF\n",
    "4. n-grams (2-grams)\n",
    "5. Co-occurrence Vectors (Context Window = 1)\n",
    "6. Word2Vec\n",
    "\n",
    "Disponibilizar o código-fonte, bem como os 30 mapas de calor em sua branch pessoal no repositório git dentro da pasta HO05."
   ]
  },
  {
   "attachments": {},
   "cell_type": "markdown",
   "metadata": {},
   "source": [
    "## Defining heatmaps for similarity visualization"
   ]
  },
  {
   "cell_type": "code",
   "execution_count": 12,
   "metadata": {},
   "outputs": [],
   "source": [
    "import os\n",
    "import matplotlib.pyplot as plt\n",
    "import seaborn as sns\n",
    "from sklearn.metrics import pairwise_distances\n",
    "\n",
    "def make_heatmap(name, data):\n",
    "    # cria uma pasta com o nome da variável name\n",
    "    os.makedirs(name, exist_ok=True)\n",
    "\n",
    "    jaccard = pairwise_distances(data, metric='jaccard')\n",
    "    sns.heatmap(jaccard, cmap=\"Purples\").set(title=(name,\"- Jaccard Similarity\"))\n",
    "    plt.savefig(os.path.join(name, \"jaccard.png\"))\n",
    "    plt.clf()\n",
    "\n",
    "    manhattan = pairwise_distances(data, metric='manhattan')\n",
    "    sns.heatmap(manhattan, cmap=\"Purples\").set(title=(name,\"- Manhattan Similarity\"))\n",
    "    plt.savefig(os.path.join(name, \"manhattan.png\"))\n",
    "    plt.clf()\n",
    "\n",
    "    euclidean = pairwise_distances(data, metric='euclidean')\n",
    "    sns.heatmap(euclidean, cmap=\"Purples\").set(title=(name,\"- Euclidean Similarity\"))\n",
    "    plt.savefig(os.path.join(name, \"euclidean.png\"))\n",
    "    plt.clf()\n",
    "\n",
    "    minkowski = pairwise_distances(data, metric='minkowski', p=3)\n",
    "    sns.heatmap(minkowski, cmap=\"Purples\").set(title=(name,\"- Minkowski Similarity\"))\n",
    "    plt.savefig(os.path.join(name, \"minkowski.png\"))\n",
    "    plt.clf()\n",
    "\n",
    "    cosine = pairwise_distances(data, metric='cosine')\n",
    "    sns.heatmap(cosine, cmap=\"Purples\").set(title=(name,\"- Cosine Similarity\"))\n",
    "    plt.savefig(os.path.join(name, \"cosine.png\"))\n",
    "    plt.clf()\n"
   ]
  },
  {
   "attachments": {},
   "cell_type": "markdown",
   "metadata": {},
   "source": [
    "## Reading data"
   ]
  },
  {
   "cell_type": "code",
   "execution_count": 13,
   "metadata": {},
   "outputs": [],
   "source": [
    "with open(\"../datasets/headlines.txt\", \"r\") as file:\n",
    "    headlines = file.readlines()"
   ]
  },
  {
   "attachments": {},
   "cell_type": "markdown",
   "metadata": {},
   "source": [
    "#### One hot Encoding"
   ]
  },
  {
   "cell_type": "code",
   "execution_count": 14,
   "metadata": {},
   "outputs": [
    {
     "name": "stderr",
     "output_type": "stream",
     "text": [
      "/usr/local/lib/python3.11/site-packages/sklearn/metrics/pairwise.py:2025: DataConversionWarning: Data was converted to boolean for metric jaccard\n",
      "  warnings.warn(msg, DataConversionWarning)\n"
     ]
    },
    {
     "data": {
      "text/plain": [
       "<Figure size 640x480 with 0 Axes>"
      ]
     },
     "metadata": {},
     "output_type": "display_data"
    }
   ],
   "source": [
    "from sklearn.feature_extraction.text import CountVectorizer\n",
    "\n",
    "vectorizer = CountVectorizer(binary=True)\n",
    "data = vectorizer.fit_transform(headlines).toarray()\n",
    "\n",
    "make_heatmap(\"One-Hot Encoding\", data)"
   ]
  },
  {
   "attachments": {},
   "cell_type": "markdown",
   "metadata": {},
   "source": [
    "#### Count Vectors"
   ]
  },
  {
   "cell_type": "code",
   "execution_count": 15,
   "metadata": {},
   "outputs": [
    {
     "name": "stderr",
     "output_type": "stream",
     "text": [
      "/usr/local/lib/python3.11/site-packages/sklearn/metrics/pairwise.py:2025: DataConversionWarning: Data was converted to boolean for metric jaccard\n",
      "  warnings.warn(msg, DataConversionWarning)\n"
     ]
    },
    {
     "data": {
      "text/plain": [
       "<Figure size 640x480 with 0 Axes>"
      ]
     },
     "metadata": {},
     "output_type": "display_data"
    }
   ],
   "source": [
    "vectorizer = CountVectorizer()\n",
    "data = vectorizer.fit_transform(headlines).toarray()\n",
    "\n",
    "make_heatmap(\"Count Vectors\", data)"
   ]
  },
  {
   "attachments": {},
   "cell_type": "markdown",
   "metadata": {},
   "source": [
    "#### TF-IDF"
   ]
  },
  {
   "cell_type": "code",
   "execution_count": 16,
   "metadata": {},
   "outputs": [
    {
     "name": "stderr",
     "output_type": "stream",
     "text": [
      "/usr/local/lib/python3.11/site-packages/sklearn/metrics/pairwise.py:2025: DataConversionWarning: Data was converted to boolean for metric jaccard\n",
      "  warnings.warn(msg, DataConversionWarning)\n"
     ]
    },
    {
     "data": {
      "text/plain": [
       "<Figure size 640x480 with 0 Axes>"
      ]
     },
     "metadata": {},
     "output_type": "display_data"
    }
   ],
   "source": [
    "from sklearn.feature_extraction.text import TfidfVectorizer\n",
    "\n",
    "tfidf = TfidfVectorizer()\n",
    "data = tfidf.fit_transform(headlines).toarray()\n",
    "\n",
    "make_heatmap(\"TF-IDF\", data)"
   ]
  },
  {
   "attachments": {},
   "cell_type": "markdown",
   "metadata": {},
   "source": [
    "#### n-grams (2-grams)"
   ]
  },
  {
   "cell_type": "code",
   "execution_count": 17,
   "metadata": {},
   "outputs": [
    {
     "name": "stderr",
     "output_type": "stream",
     "text": [
      "/usr/local/lib/python3.11/site-packages/sklearn/metrics/pairwise.py:2025: DataConversionWarning: Data was converted to boolean for metric jaccard\n",
      "  warnings.warn(msg, DataConversionWarning)\n"
     ]
    },
    {
     "data": {
      "text/plain": [
       "<Figure size 640x480 with 0 Axes>"
      ]
     },
     "metadata": {},
     "output_type": "display_data"
    }
   ],
   "source": [
    "two_grams = CountVectorizer(ngram_range=(2, 2))\n",
    "data = two_grams.fit_transform(headlines).toarray()\n",
    "\n",
    "make_heatmap(\"Two-Grams\", data)"
   ]
  },
  {
   "attachments": {},
   "cell_type": "markdown",
   "metadata": {},
   "source": [
    "Tokenizing"
   ]
  },
  {
   "cell_type": "code",
   "execution_count": 18,
   "metadata": {},
   "outputs": [],
   "source": [
    "import nltk\n",
    "from nltk.tokenize import word_tokenize\n",
    "\n",
    "def tokenize():\n",
    "    data = [headlines.strip() for headlines in headlines]\n",
    "    data_tokenized = [word_tokenize(data.lower()) for data in data]\n",
    "    return data_tokenized, data"
   ]
  },
  {
   "attachments": {},
   "cell_type": "markdown",
   "metadata": {},
   "source": [
    "#### Co-occurrence"
   ]
  },
  {
   "cell_type": "code",
   "execution_count": 19,
   "metadata": {},
   "outputs": [
    {
     "name": "stderr",
     "output_type": "stream",
     "text": [
      "/usr/local/lib/python3.11/site-packages/sklearn/metrics/pairwise.py:2025: DataConversionWarning: Data was converted to boolean for metric jaccard\n",
      "  warnings.warn(msg, DataConversionWarning)\n"
     ]
    },
    {
     "data": {
      "text/plain": [
       "<Figure size 640x480 with 0 Axes>"
      ]
     },
     "metadata": {},
     "output_type": "display_data"
    }
   ],
   "source": [
    "data_tokenized, data = tokenize()\n",
    "vectorizer = CountVectorizer(analyzer='word', ngram_range=(1, 1))\n",
    "data = vectorizer.fit_transform([' '.join(data) for data in data_tokenized])\n",
    "\n",
    "make_heatmap(\"Co_occurrence\", data.toarray())"
   ]
  },
  {
   "attachments": {},
   "cell_type": "markdown",
   "metadata": {},
   "source": [
    "#### Word2Vec"
   ]
  },
  {
   "cell_type": "code",
   "execution_count": 20,
   "metadata": {},
   "outputs": [
    {
     "name": "stderr",
     "output_type": "stream",
     "text": [
      "/usr/local/lib/python3.11/site-packages/sklearn/metrics/pairwise.py:2025: DataConversionWarning: Data was converted to boolean for metric jaccard\n",
      "  warnings.warn(msg, DataConversionWarning)\n"
     ]
    },
    {
     "data": {
      "text/plain": [
       "<Figure size 640x480 with 0 Axes>"
      ]
     },
     "metadata": {},
     "output_type": "display_data"
    }
   ],
   "source": [
    "import gensim\n",
    "import numpy as np\n",
    "\n",
    "data_tokenized, data = tokenize()\n",
    "\n",
    "model = gensim.models.Word2Vec(sentences=data_tokenized, min_count=1, vector_size=100, window=5)\n",
    "\n",
    "data = np.zeros((len(data), 100))\n",
    "\n",
    "for i in range(len(data)):\n",
    "    for word in data_tokenized[i]:\n",
    "        data[i, :] += model.wv[word]\n",
    "data /= np.linalg.norm(data, axis=1).reshape(-1, 1)\n",
    "\n",
    "make_heatmap(\"Word2Vec\",data)\n"
   ]
  }
 ],
 "metadata": {
  "kernelspec": {
   "display_name": "Python 3",
   "language": "python",
   "name": "python3"
  },
  "language_info": {
   "codemirror_mode": {
    "name": "ipython",
    "version": 3
   },
   "file_extension": ".py",
   "mimetype": "text/x-python",
   "name": "python",
   "nbconvert_exporter": "python",
   "pygments_lexer": "ipython3",
   "version": "3.11.3"
  },
  "orig_nbformat": 4
 },
 "nbformat": 4,
 "nbformat_minor": 2
}
